{
 "cells": [
  {
   "cell_type": "markdown",
   "metadata": {},
   "source": [
    "### Prep"
   ]
  },
  {
   "cell_type": "code",
   "execution_count": 1,
   "metadata": {
    "collapsed": true
   },
   "outputs": [],
   "source": [
    "# set working directory\n",
    "import os\n",
    "path = '/Users/kgedney/Documents/georgetown/anly503/exam/'\n",
    "os.chdir(path)"
   ]
  },
  {
   "cell_type": "code",
   "execution_count": 2,
   "metadata": {
    "collapsed": true
   },
   "outputs": [],
   "source": [
    "import plotly\n",
    "plotly.tools.set_credentials_file(username='kg729', api_key='')"
   ]
  },
  {
   "cell_type": "code",
   "execution_count": 3,
   "metadata": {
    "collapsed": true
   },
   "outputs": [],
   "source": [
    "import pandas as pd\n",
    "import numpy as np\n",
    "import plotly.plotly as py"
   ]
  },
  {
   "cell_type": "code",
   "execution_count": 40,
   "metadata": {},
   "outputs": [],
   "source": [
    "# load data\n",
    "df = pd.read_csv('voter_turnout_demos.csv')"
   ]
  },
  {
   "cell_type": "code",
   "execution_count": 41,
   "metadata": {},
   "outputs": [],
   "source": [
    "# limit to just US\n",
    "df = df[df.state == 'US']\n",
    "df = df.iloc[0:8]\n",
    "df"
   ]
  },
  {
   "cell_type": "code",
   "execution_count": 42,
   "metadata": {},
   "outputs": [
    {
     "data": {
      "text/html": [
       "<div>\n",
       "<style scoped>\n",
       "    .dataframe tbody tr th:only-of-type {\n",
       "        vertical-align: middle;\n",
       "    }\n",
       "\n",
       "    .dataframe tbody tr th {\n",
       "        vertical-align: top;\n",
       "    }\n",
       "\n",
       "    .dataframe thead th {\n",
       "        text-align: right;\n",
       "    }\n",
       "</style>\n",
       "<table border=\"1\" class=\"dataframe\">\n",
       "  <thead>\n",
       "    <tr style=\"text-align: right;\">\n",
       "      <th></th>\n",
       "      <th>state</th>\n",
       "      <th>demo</th>\n",
       "      <th>total_pop</th>\n",
       "      <th>total_citizen_pop</th>\n",
       "      <th>total_registered</th>\n",
       "      <th>pct_registered</th>\n",
       "      <th>pct_citizen_regisered</th>\n",
       "      <th>total_vted</th>\n",
       "      <th>pct_voted</th>\n",
       "      <th>pct_citizen_voted</th>\n",
       "    </tr>\n",
       "  </thead>\n",
       "  <tbody>\n",
       "    <tr>\n",
       "      <th>0</th>\n",
       "      <td>US</td>\n",
       "      <td>Total</td>\n",
       "      <td>245502.0</td>\n",
       "      <td>224059.0</td>\n",
       "      <td>157596</td>\n",
       "      <td>64.2</td>\n",
       "      <td>70.3</td>\n",
       "      <td>137537</td>\n",
       "      <td>56</td>\n",
       "      <td>61.4</td>\n",
       "    </tr>\n",
       "    <tr>\n",
       "      <th>1</th>\n",
       "      <td>US</td>\n",
       "      <td>Male</td>\n",
       "      <td>118488.0</td>\n",
       "      <td>107554.0</td>\n",
       "      <td>73761</td>\n",
       "      <td>62.3</td>\n",
       "      <td>68.6</td>\n",
       "      <td>63801</td>\n",
       "      <td>53.8</td>\n",
       "      <td>59.3</td>\n",
       "    </tr>\n",
       "    <tr>\n",
       "      <th>2</th>\n",
       "      <td>US</td>\n",
       "      <td>Female</td>\n",
       "      <td>127013.0</td>\n",
       "      <td>116505.0</td>\n",
       "      <td>83835</td>\n",
       "      <td>66</td>\n",
       "      <td>72</td>\n",
       "      <td>73735</td>\n",
       "      <td>58.1</td>\n",
       "      <td>63.3</td>\n",
       "    </tr>\n",
       "    <tr>\n",
       "      <th>3</th>\n",
       "      <td>US</td>\n",
       "      <td>White alone</td>\n",
       "      <td>192129.0</td>\n",
       "      <td>177865.0</td>\n",
       "      <td>127463</td>\n",
       "      <td>66.3</td>\n",
       "      <td>71.7</td>\n",
       "      <td>111891</td>\n",
       "      <td>58.2</td>\n",
       "      <td>62.9</td>\n",
       "    </tr>\n",
       "    <tr>\n",
       "      <th>4</th>\n",
       "      <td>US</td>\n",
       "      <td>White non-Hispanic alone</td>\n",
       "      <td>157395.0</td>\n",
       "      <td>154450.0</td>\n",
       "      <td>114151</td>\n",
       "      <td>72.5</td>\n",
       "      <td>73.9</td>\n",
       "      <td>100849</td>\n",
       "      <td>64.1</td>\n",
       "      <td>65.3</td>\n",
       "    </tr>\n",
       "    <tr>\n",
       "      <th>5</th>\n",
       "      <td>US</td>\n",
       "      <td>Black alone</td>\n",
       "      <td>30608.0</td>\n",
       "      <td>28808.0</td>\n",
       "      <td>19984</td>\n",
       "      <td>65.3</td>\n",
       "      <td>69.4</td>\n",
       "      <td>17119</td>\n",
       "      <td>55.9</td>\n",
       "      <td>59.4</td>\n",
       "    </tr>\n",
       "    <tr>\n",
       "      <th>6</th>\n",
       "      <td>US</td>\n",
       "      <td>Asian alone</td>\n",
       "      <td>14881.0</td>\n",
       "      <td>10283.0</td>\n",
       "      <td>5785</td>\n",
       "      <td>38.9</td>\n",
       "      <td>56.3</td>\n",
       "      <td>5043</td>\n",
       "      <td>33.9</td>\n",
       "      <td>49</td>\n",
       "    </tr>\n",
       "    <tr>\n",
       "      <th>7</th>\n",
       "      <td>US</td>\n",
       "      <td>Hispanic (of any race)</td>\n",
       "      <td>38990.0</td>\n",
       "      <td>26662.0</td>\n",
       "      <td>15267</td>\n",
       "      <td>39.2</td>\n",
       "      <td>57.3</td>\n",
       "      <td>12682</td>\n",
       "      <td>32.5</td>\n",
       "      <td>47.6</td>\n",
       "    </tr>\n",
       "  </tbody>\n",
       "</table>\n",
       "</div>"
      ],
      "text/plain": [
       "  state                      demo  total_pop  total_citizen_pop  \\\n",
       "0    US                     Total   245502.0           224059.0   \n",
       "1    US                      Male   118488.0           107554.0   \n",
       "2    US                    Female   127013.0           116505.0   \n",
       "3    US               White alone   192129.0           177865.0   \n",
       "4    US  White non-Hispanic alone   157395.0           154450.0   \n",
       "5    US               Black alone    30608.0            28808.0   \n",
       "6    US               Asian alone    14881.0            10283.0   \n",
       "7    US    Hispanic (of any race)    38990.0            26662.0   \n",
       "\n",
       "  total_registered pct_registered pct_citizen_regisered total_vted pct_voted  \\\n",
       "0           157596           64.2                  70.3     137537        56   \n",
       "1            73761           62.3                  68.6      63801      53.8   \n",
       "2            83835             66                    72      73735      58.1   \n",
       "3           127463           66.3                  71.7     111891      58.2   \n",
       "4           114151           72.5                  73.9     100849      64.1   \n",
       "5            19984           65.3                  69.4      17119      55.9   \n",
       "6             5785           38.9                  56.3       5043      33.9   \n",
       "7            15267           39.2                  57.3      12682      32.5   \n",
       "\n",
       "  pct_citizen_voted  \n",
       "0              61.4  \n",
       "1              59.3  \n",
       "2              63.3  \n",
       "3              62.9  \n",
       "4              65.3  \n",
       "5              59.4  \n",
       "6                49  \n",
       "7              47.6  "
      ]
     },
     "execution_count": 42,
     "metadata": {},
     "output_type": "execute_result"
    }
   ],
   "source": [
    "df.demo = df.demo.str.split(' a').str[0]\n",
    "df.demo = df.demo.str.split('(').str[0]"
   ]
  },
  {
   "cell_type": "code",
   "execution_count": 62,
   "metadata": {},
   "outputs": [
    {
     "data": {
      "text/plain": [
       "(0.277018, 0.050344, 0.375715, 1.0)"
      ]
     },
     "execution_count": 62,
     "metadata": {},
     "output_type": "execute_result"
    }
   ],
   "source": [
    "import matplotlib\n",
    "from matplotlib import cm\n",
    "\n",
    "viridis_cmap = matplotlib.cm.get_cmap('viridis')\n"
   ]
  },
  {
   "cell_type": "code",
   "execution_count": 49,
   "metadata": {},
   "outputs": [
    {
     "name": "stderr",
     "output_type": "stream",
     "text": [
      "IOPub data rate exceeded.\n",
      "The notebook server will temporarily stop sending output\n",
      "to the client in order to avoid crashing it.\n",
      "To change this limit, set the config variable\n",
      "`--NotebookApp.iopub_data_rate_limit`.\n"
     ]
    }
   ],
   "source": [
    "import plotly\n",
    "plotly.offline.init_notebook_mode()\n",
    "\n",
    "# import plotly.plotly as py\n",
    "from plotly.offline import plot, iplot\n",
    "import plotly.graph_objs as go"
   ]
  },
  {
   "cell_type": "code",
   "execution_count": 87,
   "metadata": {},
   "outputs": [],
   "source": [
    "demos_total    = list(df['demo'])[0]\n",
    "demos_gender   = list(df['demo'])[1:3]\n",
    "demos_race_eth = list(df['demo'])[3:]"
   ]
  },
  {
   "cell_type": "code",
   "execution_count": 110,
   "metadata": {},
   "outputs": [
    {
     "data": {
      "text/plain": [
       "'file:///Users/kgedney/Documents/georgetown/anly503/exam/webpage/images/plotly_bar.html'"
      ]
     },
     "execution_count": 110,
     "metadata": {},
     "output_type": "execute_result"
    }
   ],
   "source": [
    "trace1 = go.Bar(x = demos_total,\n",
    "                y = int(df.pct_voted[0]),\n",
    "                name = 'Total',\n",
    "                marker = dict(color = '#17202A'),\n",
    "                orientation='v')\n",
    "\n",
    "trace2 = go.Bar(x = demos_gender,\n",
    "                y = df.pct_voted[1:3],\n",
    "                name = 'Gender',\n",
    "                marker = dict(color = ['#481567', '#404788'],\n",
    "                              line=dict(color='#17202A)',width=1)),\n",
    "                orientation='v')\n",
    "\n",
    "trace3 = go.Bar(x = demos_race_eth,\n",
    "                y = df.pct_voted[3:],\n",
    "                name = 'Race-Ethnicity',\n",
    "                marker = dict(color = ['#1F968B', '#29AF7F', '#3CBB75', '#73D055', '#B8DE29'],\n",
    "                             line=dict(color='#17202A)',width=1)),\n",
    "                orientation='v')\n",
    "\n",
    "data = [trace1, trace2, trace3]\n",
    "\n",
    "layout = go.Layout(\n",
    "    barmode = 'group',\n",
    "    title   = 'Voter Turnout by Demo',\n",
    "    xaxis   = dict(title='% Voted'),\n",
    "    yaxis   = dict(title='Demographic', tickangle=35,\n",
    "                  tickfont=dict(size=8)),\n",
    "    showlegend=False)\n",
    "    \n",
    "\n",
    "fig = go.Figure(data=data, layout=layout)\n",
    "\n",
    "plot(fig)\n",
    "plot(fig, filename='/Users/kgedney/Documents/georgetown/anly503/exam/webpage/images/plotly_bar.html')\n"
   ]
  },
  {
   "cell_type": "code",
   "execution_count": null,
   "metadata": {
    "collapsed": true
   },
   "outputs": [],
   "source": []
  }
 ],
 "metadata": {
  "kernelspec": {
   "display_name": "Python 3",
   "language": "python",
   "name": "python3"
  },
  "language_info": {
   "codemirror_mode": {
    "name": "ipython",
    "version": 3
   },
   "file_extension": ".py",
   "mimetype": "text/x-python",
   "name": "python",
   "nbconvert_exporter": "python",
   "pygments_lexer": "ipython3",
   "version": "3.6.1"
  }
 },
 "nbformat": 4,
 "nbformat_minor": 2
}
