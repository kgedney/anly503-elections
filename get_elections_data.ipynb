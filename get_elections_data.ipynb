{
 "cells": [
  {
   "cell_type": "markdown",
   "metadata": {},
   "source": [
    "### US Elections Data - ANLY 503 Final Exam"
   ]
  },
  {
   "cell_type": "markdown",
   "metadata": {},
   "source": [
    "Collects the following files:   \n",
    "    \n",
    "**State Level Results**\n",
    "- 'data/2016-president.csv'\n",
    "\n",
    "**Voter Turnout from US Census**\n",
    "- 'data/voter_turnout_age.csv'\n",
    "- 'data/voter_turnout_demos.csv'\n",
    "- 'data/non_voters.csv'\n",
    "\n",
    "**Electoral College**\n",
    "- 'data/'electoral_college.csv'"
   ]
  },
  {
   "cell_type": "markdown",
   "metadata": {},
   "source": [
    "#### Prep"
   ]
  },
  {
   "cell_type": "code",
   "execution_count": 1,
   "metadata": {
    "collapsed": true
   },
   "outputs": [],
   "source": [
    "# set working directory\n",
    "import os\n",
    "path = '/Users/kgedney/Documents/georgetown/anly503/exam/'\n",
    "os.chdir(path)"
   ]
  },
  {
   "cell_type": "code",
   "execution_count": 2,
   "metadata": {
    "collapsed": true
   },
   "outputs": [],
   "source": [
    "import pandas as pd"
   ]
  },
  {
   "cell_type": "markdown",
   "metadata": {},
   "source": [
    "## Part 1: Results Data"
   ]
  },
  {
   "cell_type": "markdown",
   "metadata": {
    "collapsed": true
   },
   "source": [
    "#### 2016 Presidential by State"
   ]
  },
  {
   "cell_type": "code",
   "execution_count": null,
   "metadata": {
    "collapsed": true
   },
   "outputs": [],
   "source": [
    "# download from: https://dataverse.harvard.edu/file.xhtml?persistentId=doi:10.7910/DVN/42MVDX/ZBRZDY&version=2.1"
   ]
  },
  {
   "cell_type": "code",
   "execution_count": 5,
   "metadata": {
    "collapsed": true
   },
   "outputs": [],
   "source": [
    "df_2016 = pd.read_csv('1976-2016-president.csv')"
   ]
  },
  {
   "cell_type": "code",
   "execution_count": 6,
   "metadata": {
    "collapsed": true
   },
   "outputs": [],
   "source": [
    "# subset on 2016\n",
    "df_2016 = df_2016[df_2016['year'] == 2016].reset_index(drop=True)"
   ]
  },
  {
   "cell_type": "code",
   "execution_count": 7,
   "metadata": {
    "collapsed": true
   },
   "outputs": [],
   "source": [
    "# drop other candidates\n",
    "df_2016 = df_2016[(df_2016['party'] == 'republican') | (df_2016['party'] == 'democrat')]\n",
    "df_2016 = df_2016[df_2016['writein'] == False]"
   ]
  },
  {
   "cell_type": "code",
   "execution_count": 6,
   "metadata": {
    "collapsed": true
   },
   "outputs": [],
   "source": [
    "# save file\n",
    "df_2016.to_csv('2016-president.csv', index=False)"
   ]
  },
  {
   "cell_type": "markdown",
   "metadata": {},
   "source": [
    "#### Reshape for Leaflet Map"
   ]
  },
  {
   "cell_type": "code",
   "execution_count": 9,
   "metadata": {
    "collapsed": true
   },
   "outputs": [],
   "source": [
    "# subset\n",
    "df_sub = df_2016[['state', 'totalvotes', 'candidate', 'candidatevotes']]"
   ]
  },
  {
   "cell_type": "code",
   "execution_count": 10,
   "metadata": {},
   "outputs": [
    {
     "data": {
      "text/html": [
       "<div>\n",
       "<style scoped>\n",
       "    .dataframe tbody tr th:only-of-type {\n",
       "        vertical-align: middle;\n",
       "    }\n",
       "\n",
       "    .dataframe tbody tr th {\n",
       "        vertical-align: top;\n",
       "    }\n",
       "\n",
       "    .dataframe thead th {\n",
       "        text-align: right;\n",
       "    }\n",
       "</style>\n",
       "<table border=\"1\" class=\"dataframe\">\n",
       "  <thead>\n",
       "    <tr style=\"text-align: right;\">\n",
       "      <th></th>\n",
       "      <th>state</th>\n",
       "      <th>totalvotes</th>\n",
       "      <th>candidate</th>\n",
       "      <th>candidatevotes</th>\n",
       "    </tr>\n",
       "  </thead>\n",
       "  <tbody>\n",
       "    <tr>\n",
       "      <th>0</th>\n",
       "      <td>Alabama</td>\n",
       "      <td>2123372</td>\n",
       "      <td>Trump, Donald J.</td>\n",
       "      <td>1318255</td>\n",
       "    </tr>\n",
       "    <tr>\n",
       "      <th>1</th>\n",
       "      <td>Alabama</td>\n",
       "      <td>2123372</td>\n",
       "      <td>Clinton, Hillary</td>\n",
       "      <td>729547</td>\n",
       "    </tr>\n",
       "    <tr>\n",
       "      <th>5</th>\n",
       "      <td>Alaska</td>\n",
       "      <td>318608</td>\n",
       "      <td>Trump, Donald J.</td>\n",
       "      <td>163387</td>\n",
       "    </tr>\n",
       "    <tr>\n",
       "      <th>6</th>\n",
       "      <td>Alaska</td>\n",
       "      <td>318608</td>\n",
       "      <td>Clinton, Hillary</td>\n",
       "      <td>116454</td>\n",
       "    </tr>\n",
       "    <tr>\n",
       "      <th>12</th>\n",
       "      <td>Arizona</td>\n",
       "      <td>2573165</td>\n",
       "      <td>Trump, Donald J.</td>\n",
       "      <td>1252401</td>\n",
       "    </tr>\n",
       "  </tbody>\n",
       "</table>\n",
       "</div>"
      ],
      "text/plain": [
       "      state  totalvotes         candidate  candidatevotes\n",
       "0   Alabama     2123372  Trump, Donald J.         1318255\n",
       "1   Alabama     2123372  Clinton, Hillary          729547\n",
       "5    Alaska      318608  Trump, Donald J.          163387\n",
       "6    Alaska      318608  Clinton, Hillary          116454\n",
       "12  Arizona     2573165  Trump, Donald J.         1252401"
      ]
     },
     "execution_count": 10,
     "metadata": {},
     "output_type": "execute_result"
    }
   ],
   "source": [
    "df_sub.head()"
   ]
  },
  {
   "cell_type": "code",
   "execution_count": 11,
   "metadata": {},
   "outputs": [
    {
     "data": {
      "text/html": [
       "<div>\n",
       "<style scoped>\n",
       "    .dataframe tbody tr th:only-of-type {\n",
       "        vertical-align: middle;\n",
       "    }\n",
       "\n",
       "    .dataframe tbody tr th {\n",
       "        vertical-align: top;\n",
       "    }\n",
       "\n",
       "    .dataframe thead th {\n",
       "        text-align: right;\n",
       "    }\n",
       "</style>\n",
       "<table border=\"1\" class=\"dataframe\">\n",
       "  <thead>\n",
       "    <tr style=\"text-align: right;\">\n",
       "      <th>candidate</th>\n",
       "      <th>state</th>\n",
       "      <th>Clinton, Hillary</th>\n",
       "      <th>Trump, Donald J.</th>\n",
       "    </tr>\n",
       "  </thead>\n",
       "  <tbody>\n",
       "    <tr>\n",
       "      <th>0</th>\n",
       "      <td>Alabama</td>\n",
       "      <td>729547</td>\n",
       "      <td>1318255</td>\n",
       "    </tr>\n",
       "    <tr>\n",
       "      <th>1</th>\n",
       "      <td>Alaska</td>\n",
       "      <td>116454</td>\n",
       "      <td>163387</td>\n",
       "    </tr>\n",
       "    <tr>\n",
       "      <th>2</th>\n",
       "      <td>Arizona</td>\n",
       "      <td>1161167</td>\n",
       "      <td>1252401</td>\n",
       "    </tr>\n",
       "    <tr>\n",
       "      <th>3</th>\n",
       "      <td>Arkansas</td>\n",
       "      <td>380494</td>\n",
       "      <td>684872</td>\n",
       "    </tr>\n",
       "    <tr>\n",
       "      <th>4</th>\n",
       "      <td>California</td>\n",
       "      <td>8753788</td>\n",
       "      <td>4483810</td>\n",
       "    </tr>\n",
       "  </tbody>\n",
       "</table>\n",
       "</div>"
      ],
      "text/plain": [
       "candidate       state  Clinton, Hillary  Trump, Donald J.\n",
       "0             Alabama            729547           1318255\n",
       "1              Alaska            116454            163387\n",
       "2             Arizona           1161167           1252401\n",
       "3            Arkansas            380494            684872\n",
       "4          California           8753788           4483810"
      ]
     },
     "execution_count": 11,
     "metadata": {},
     "output_type": "execute_result"
    }
   ],
   "source": [
    "# pivot to make columns for each candidate\n",
    "z = df_sub.pivot(columns='candidate', index='state', values='candidatevotes')\n",
    "z = z.reset_index()\n",
    "z.head()"
   ]
  },
  {
   "cell_type": "code",
   "execution_count": 12,
   "metadata": {},
   "outputs": [
    {
     "data": {
      "text/html": [
       "<div>\n",
       "<style scoped>\n",
       "    .dataframe tbody tr th:only-of-type {\n",
       "        vertical-align: middle;\n",
       "    }\n",
       "\n",
       "    .dataframe tbody tr th {\n",
       "        vertical-align: top;\n",
       "    }\n",
       "\n",
       "    .dataframe thead th {\n",
       "        text-align: right;\n",
       "    }\n",
       "</style>\n",
       "<table border=\"1\" class=\"dataframe\">\n",
       "  <thead>\n",
       "    <tr style=\"text-align: right;\">\n",
       "      <th></th>\n",
       "      <th>state</th>\n",
       "      <th>Clinton, Hillary</th>\n",
       "      <th>Trump, Donald J.</th>\n",
       "      <th>totalvotes</th>\n",
       "    </tr>\n",
       "  </thead>\n",
       "  <tbody>\n",
       "    <tr>\n",
       "      <th>0</th>\n",
       "      <td>Alabama</td>\n",
       "      <td>729547</td>\n",
       "      <td>1318255</td>\n",
       "      <td>2123372</td>\n",
       "    </tr>\n",
       "    <tr>\n",
       "      <th>1</th>\n",
       "      <td>Alaska</td>\n",
       "      <td>116454</td>\n",
       "      <td>163387</td>\n",
       "      <td>318608</td>\n",
       "    </tr>\n",
       "    <tr>\n",
       "      <th>2</th>\n",
       "      <td>Arizona</td>\n",
       "      <td>1161167</td>\n",
       "      <td>1252401</td>\n",
       "      <td>2573165</td>\n",
       "    </tr>\n",
       "    <tr>\n",
       "      <th>3</th>\n",
       "      <td>Arkansas</td>\n",
       "      <td>380494</td>\n",
       "      <td>684872</td>\n",
       "      <td>1130635</td>\n",
       "    </tr>\n",
       "    <tr>\n",
       "      <th>4</th>\n",
       "      <td>California</td>\n",
       "      <td>8753788</td>\n",
       "      <td>4483810</td>\n",
       "      <td>14181595</td>\n",
       "    </tr>\n",
       "  </tbody>\n",
       "</table>\n",
       "</div>"
      ],
      "text/plain": [
       "        state  Clinton, Hillary  Trump, Donald J.  totalvotes\n",
       "0     Alabama            729547           1318255     2123372\n",
       "1      Alaska            116454            163387      318608\n",
       "2     Arizona           1161167           1252401     2573165\n",
       "3    Arkansas            380494            684872     1130635\n",
       "4  California           8753788           4483810    14181595"
      ]
     },
     "execution_count": 12,
     "metadata": {},
     "output_type": "execute_result"
    }
   ],
   "source": [
    "# merge with total votes data\n",
    "totalvotes = df_sub[['state', 'totalvotes']].drop_duplicates()\n",
    "\n",
    "z = pd.merge(z, totalvotes, on='state').reset_index(drop=True)\n",
    "z.head()"
   ]
  },
  {
   "cell_type": "code",
   "execution_count": 13,
   "metadata": {
    "collapsed": true
   },
   "outputs": [],
   "source": [
    "# clean up\n",
    "z.columns = ['state', 'clinton_votes', 'trump_votes', 'total_votes']"
   ]
  },
  {
   "cell_type": "code",
   "execution_count": 14,
   "metadata": {
    "collapsed": true
   },
   "outputs": [],
   "source": [
    "# add columns\n",
    "z['clinton_pct'] = z['clinton_votes'] / z['total_votes']\n",
    "z['trump_pct']   = z['trump_votes'] / z['total_votes']\n"
   ]
  },
  {
   "cell_type": "code",
   "execution_count": 23,
   "metadata": {
    "collapsed": true
   },
   "outputs": [],
   "source": [
    "z['points_diff'] = (z['trump_pct'] -  z['clinton_pct']) * 100 "
   ]
  },
  {
   "cell_type": "code",
   "execution_count": 25,
   "metadata": {},
   "outputs": [
    {
     "data": {
      "text/html": [
       "<div>\n",
       "<style scoped>\n",
       "    .dataframe tbody tr th:only-of-type {\n",
       "        vertical-align: middle;\n",
       "    }\n",
       "\n",
       "    .dataframe tbody tr th {\n",
       "        vertical-align: top;\n",
       "    }\n",
       "\n",
       "    .dataframe thead th {\n",
       "        text-align: right;\n",
       "    }\n",
       "</style>\n",
       "<table border=\"1\" class=\"dataframe\">\n",
       "  <thead>\n",
       "    <tr style=\"text-align: right;\">\n",
       "      <th></th>\n",
       "      <th>state</th>\n",
       "      <th>clinton_votes</th>\n",
       "      <th>trump_votes</th>\n",
       "      <th>total_votes</th>\n",
       "      <th>clinton_pct</th>\n",
       "      <th>trump_pct</th>\n",
       "      <th>points_diff</th>\n",
       "    </tr>\n",
       "  </thead>\n",
       "  <tbody>\n",
       "    <tr>\n",
       "      <th>0</th>\n",
       "      <td>Alabama</td>\n",
       "      <td>729547</td>\n",
       "      <td>1318255</td>\n",
       "      <td>2123372</td>\n",
       "      <td>0.343579</td>\n",
       "      <td>0.620831</td>\n",
       "      <td>27.725147</td>\n",
       "    </tr>\n",
       "    <tr>\n",
       "      <th>1</th>\n",
       "      <td>Alaska</td>\n",
       "      <td>116454</td>\n",
       "      <td>163387</td>\n",
       "      <td>318608</td>\n",
       "      <td>0.365509</td>\n",
       "      <td>0.512815</td>\n",
       "      <td>14.730641</td>\n",
       "    </tr>\n",
       "    <tr>\n",
       "      <th>2</th>\n",
       "      <td>Arizona</td>\n",
       "      <td>1161167</td>\n",
       "      <td>1252401</td>\n",
       "      <td>2573165</td>\n",
       "      <td>0.451260</td>\n",
       "      <td>0.486716</td>\n",
       "      <td>3.545595</td>\n",
       "    </tr>\n",
       "    <tr>\n",
       "      <th>3</th>\n",
       "      <td>Arkansas</td>\n",
       "      <td>380494</td>\n",
       "      <td>684872</td>\n",
       "      <td>1130635</td>\n",
       "      <td>0.336531</td>\n",
       "      <td>0.605741</td>\n",
       "      <td>26.920978</td>\n",
       "    </tr>\n",
       "    <tr>\n",
       "      <th>4</th>\n",
       "      <td>California</td>\n",
       "      <td>8753788</td>\n",
       "      <td>4483810</td>\n",
       "      <td>14181595</td>\n",
       "      <td>0.617264</td>\n",
       "      <td>0.316171</td>\n",
       "      <td>-30.109293</td>\n",
       "    </tr>\n",
       "  </tbody>\n",
       "</table>\n",
       "</div>"
      ],
      "text/plain": [
       "        state  clinton_votes  trump_votes  total_votes  clinton_pct  \\\n",
       "0     Alabama         729547      1318255      2123372     0.343579   \n",
       "1      Alaska         116454       163387       318608     0.365509   \n",
       "2     Arizona        1161167      1252401      2573165     0.451260   \n",
       "3    Arkansas         380494       684872      1130635     0.336531   \n",
       "4  California        8753788      4483810     14181595     0.617264   \n",
       "\n",
       "   trump_pct  points_diff  \n",
       "0   0.620831    27.725147  \n",
       "1   0.512815    14.730641  \n",
       "2   0.486716     3.545595  \n",
       "3   0.605741    26.920978  \n",
       "4   0.316171   -30.109293  "
      ]
     },
     "execution_count": 25,
     "metadata": {},
     "output_type": "execute_result"
    }
   ],
   "source": [
    "z.head()"
   ]
  },
  {
   "cell_type": "code",
   "execution_count": 27,
   "metadata": {
    "collapsed": true
   },
   "outputs": [],
   "source": [
    "# save file\n",
    "z.to_csv('2016-president-by-candidate.csv', index=False)"
   ]
  },
  {
   "cell_type": "markdown",
   "metadata": {},
   "source": [
    "## Part 2:  Voter Turnout Data\n",
    "Reference: https://electionlab.mit.edu/research/voter-turnout"
   ]
  },
  {
   "cell_type": "markdown",
   "metadata": {},
   "source": [
    "#### 1. Who Votes? Source: US Census Bureau Surveys"
   ]
  },
  {
   "cell_type": "code",
   "execution_count": 86,
   "metadata": {
    "collapsed": true
   },
   "outputs": [],
   "source": [
    "# import data\n",
    "url   = 'https://www2.census.gov/programs-surveys/cps/tables/p20/580/table04c.xlsx' # states by age\n",
    "url_2 = 'https://www2.census.gov/programs-surveys/cps/tables/p20/580/table04b.xlsx' # states by race\n",
    "url_3 = 'https://www2.census.gov/programs-surveys/cps/tables/p20/580/table10.xlsx'  # \n",
    "\n",
    "df_age  = pd.read_excel(url)\n",
    "df_race = pd.read_excel(url_2) \n",
    "df_nonvoters = pd.read_excel(url_3)"
   ]
  },
  {
   "cell_type": "code",
   "execution_count": 95,
   "metadata": {
    "collapsed": true
   },
   "outputs": [],
   "source": [
    "# set column names\n",
    "df_age.columns = ['state', 'age', 'total_pop', 'total_citizen_pop', 'total_registered', 'pct_registered','me_1', 'pct_citizen_regisered',\n",
    "             'me2', 'total_vted', 'pct_voted', 'me3', 'pct_citizen_voted', 'me4', 'extra']\n",
    "\n",
    "df_race.columns = ['state', 'demo', 'total_pop', 'total_citizen_pop', 'total_registered', 'pct_registered','me_1', 'pct_citizen_regisered',\n",
    "             'me2', 'total_vted', 'pct_voted', 'me3', 'pct_citizen_voted', 'me4', 'extra']"
   ]
  },
  {
   "cell_type": "code",
   "execution_count": 96,
   "metadata": {
    "collapsed": true
   },
   "outputs": [],
   "source": [
    "# drop extra columns\n",
    "df_age  = df_age.drop(columns=['me_1', 'me2', 'me3', 'me4', 'extra'])\n",
    "df_race = df_race.drop(columns=['me_1', 'me2', 'me3', 'me4', 'extra'])"
   ]
  },
  {
   "cell_type": "code",
   "execution_count": 97,
   "metadata": {
    "collapsed": true
   },
   "outputs": [],
   "source": [
    "# drop extra rows\n",
    "df_age  = df_age.drop([0,1,2,3])\n",
    "df_race = df_race.drop([0,1,2,3])"
   ]
  },
  {
   "cell_type": "code",
   "execution_count": 98,
   "metadata": {
    "collapsed": true
   },
   "outputs": [],
   "source": [
    "# fill down state values\n",
    "df_age['state']   = df_age['state'].ffill()\n",
    "df_race['state']  = df_race['state'].ffill()"
   ]
  },
  {
   "cell_type": "code",
   "execution_count": 99,
   "metadata": {},
   "outputs": [
    {
     "data": {
      "text/html": [
       "<div>\n",
       "<style scoped>\n",
       "    .dataframe tbody tr th:only-of-type {\n",
       "        vertical-align: middle;\n",
       "    }\n",
       "\n",
       "    .dataframe tbody tr th {\n",
       "        vertical-align: top;\n",
       "    }\n",
       "\n",
       "    .dataframe thead th {\n",
       "        text-align: right;\n",
       "    }\n",
       "</style>\n",
       "<table border=\"1\" class=\"dataframe\">\n",
       "  <thead>\n",
       "    <tr style=\"text-align: right;\">\n",
       "      <th></th>\n",
       "      <th>state</th>\n",
       "      <th>age</th>\n",
       "      <th>total_pop</th>\n",
       "      <th>total_citizen_pop</th>\n",
       "      <th>total_registered</th>\n",
       "      <th>pct_registered</th>\n",
       "      <th>pct_citizen_regisered</th>\n",
       "      <th>total_vted</th>\n",
       "      <th>pct_voted</th>\n",
       "      <th>pct_citizen_voted</th>\n",
       "    </tr>\n",
       "  </thead>\n",
       "  <tbody>\n",
       "    <tr>\n",
       "      <th>4</th>\n",
       "      <td>US</td>\n",
       "      <td>Total</td>\n",
       "      <td>245502</td>\n",
       "      <td>224059</td>\n",
       "      <td>157596</td>\n",
       "      <td>64.2</td>\n",
       "      <td>70.3</td>\n",
       "      <td>137537</td>\n",
       "      <td>56</td>\n",
       "      <td>61.4</td>\n",
       "    </tr>\n",
       "    <tr>\n",
       "      <th>5</th>\n",
       "      <td>US</td>\n",
       "      <td>18 to 24</td>\n",
       "      <td>29320</td>\n",
       "      <td>26913</td>\n",
       "      <td>14905</td>\n",
       "      <td>50.8</td>\n",
       "      <td>55.4</td>\n",
       "      <td>11560</td>\n",
       "      <td>39.4</td>\n",
       "      <td>43</td>\n",
       "    </tr>\n",
       "    <tr>\n",
       "      <th>6</th>\n",
       "      <td>US</td>\n",
       "      <td>25 to 34</td>\n",
       "      <td>43794</td>\n",
       "      <td>38283</td>\n",
       "      <td>24682</td>\n",
       "      <td>56.4</td>\n",
       "      <td>64.5</td>\n",
       "      <td>20332</td>\n",
       "      <td>46.4</td>\n",
       "      <td>53.1</td>\n",
       "    </tr>\n",
       "    <tr>\n",
       "      <th>7</th>\n",
       "      <td>US</td>\n",
       "      <td>35 to 44</td>\n",
       "      <td>39905</td>\n",
       "      <td>34327</td>\n",
       "      <td>23948</td>\n",
       "      <td>60</td>\n",
       "      <td>69.8</td>\n",
       "      <td>20662</td>\n",
       "      <td>51.8</td>\n",
       "      <td>60.2</td>\n",
       "    </tr>\n",
       "    <tr>\n",
       "      <th>8</th>\n",
       "      <td>US</td>\n",
       "      <td>45 to 64</td>\n",
       "      <td>83799</td>\n",
       "      <td>77544</td>\n",
       "      <td>57394</td>\n",
       "      <td>68.5</td>\n",
       "      <td>74</td>\n",
       "      <td>51668</td>\n",
       "      <td>61.7</td>\n",
       "      <td>66.6</td>\n",
       "    </tr>\n",
       "    <tr>\n",
       "      <th>9</th>\n",
       "      <td>US</td>\n",
       "      <td>65+</td>\n",
       "      <td>48684</td>\n",
       "      <td>46993</td>\n",
       "      <td>36667</td>\n",
       "      <td>75.3</td>\n",
       "      <td>78</td>\n",
       "      <td>33314</td>\n",
       "      <td>68.4</td>\n",
       "      <td>70.9</td>\n",
       "    </tr>\n",
       "    <tr>\n",
       "      <th>10</th>\n",
       "      <td>ALABAMA</td>\n",
       "      <td>Total</td>\n",
       "      <td>3717</td>\n",
       "      <td>3651</td>\n",
       "      <td>2526</td>\n",
       "      <td>68</td>\n",
       "      <td>69.2</td>\n",
       "      <td>2095</td>\n",
       "      <td>56.4</td>\n",
       "      <td>57.4</td>\n",
       "    </tr>\n",
       "    <tr>\n",
       "      <th>11</th>\n",
       "      <td>ALABAMA</td>\n",
       "      <td>18 to 24</td>\n",
       "      <td>513</td>\n",
       "      <td>497</td>\n",
       "      <td>283</td>\n",
       "      <td>55.2</td>\n",
       "      <td>57</td>\n",
       "      <td>212</td>\n",
       "      <td>41.4</td>\n",
       "      <td>42.7</td>\n",
       "    </tr>\n",
       "    <tr>\n",
       "      <th>12</th>\n",
       "      <td>ALABAMA</td>\n",
       "      <td>25 to 34</td>\n",
       "      <td>583</td>\n",
       "      <td>568</td>\n",
       "      <td>393</td>\n",
       "      <td>67.5</td>\n",
       "      <td>69.2</td>\n",
       "      <td>310</td>\n",
       "      <td>53.1</td>\n",
       "      <td>54.5</td>\n",
       "    </tr>\n",
       "    <tr>\n",
       "      <th>13</th>\n",
       "      <td>ALABAMA</td>\n",
       "      <td>35 to 44</td>\n",
       "      <td>566</td>\n",
       "      <td>548</td>\n",
       "      <td>363</td>\n",
       "      <td>64.1</td>\n",
       "      <td>66.3</td>\n",
       "      <td>306</td>\n",
       "      <td>54</td>\n",
       "      <td>55.8</td>\n",
       "    </tr>\n",
       "  </tbody>\n",
       "</table>\n",
       "</div>"
      ],
      "text/plain": [
       "      state       age total_pop total_citizen_pop total_registered  \\\n",
       "4        US     Total    245502            224059           157596   \n",
       "5        US  18 to 24     29320             26913            14905   \n",
       "6        US  25 to 34     43794             38283            24682   \n",
       "7        US  35 to 44     39905             34327            23948   \n",
       "8        US  45 to 64     83799             77544            57394   \n",
       "9        US       65+     48684             46993            36667   \n",
       "10  ALABAMA     Total      3717              3651             2526   \n",
       "11  ALABAMA  18 to 24       513               497              283   \n",
       "12  ALABAMA  25 to 34       583               568              393   \n",
       "13  ALABAMA  35 to 44       566               548              363   \n",
       "\n",
       "   pct_registered pct_citizen_regisered total_vted pct_voted pct_citizen_voted  \n",
       "4            64.2                  70.3     137537        56              61.4  \n",
       "5            50.8                  55.4      11560      39.4                43  \n",
       "6            56.4                  64.5      20332      46.4              53.1  \n",
       "7              60                  69.8      20662      51.8              60.2  \n",
       "8            68.5                    74      51668      61.7              66.6  \n",
       "9            75.3                    78      33314      68.4              70.9  \n",
       "10             68                  69.2       2095      56.4              57.4  \n",
       "11           55.2                    57        212      41.4              42.7  \n",
       "12           67.5                  69.2        310      53.1              54.5  \n",
       "13           64.1                  66.3        306        54              55.8  "
      ]
     },
     "execution_count": 99,
     "metadata": {},
     "output_type": "execute_result"
    }
   ],
   "source": [
    "df_age.head(10)"
   ]
  },
  {
   "cell_type": "code",
   "execution_count": 32,
   "metadata": {
    "collapsed": true
   },
   "outputs": [],
   "source": [
    "# save files\n",
    "df_age.to_csv('voter_turnout_age.csv', index=False)\n",
    "df_race.to_csv('voter_turnout_demos.csv', index=False)"
   ]
  },
  {
   "cell_type": "code",
   "execution_count": 87,
   "metadata": {
    "collapsed": true
   },
   "outputs": [],
   "source": [
    "# process other file\n",
    "# set column names\n",
    "df_nonvoters.columns = ['demo_1', 'demo_2', 'total_count', 'Illness or disability', 'Out of town', \n",
    "                        'Forgot to vote', 'Not interested', 'Too busy, conflicting schedule',\n",
    "                         'Transportation problems', 'Did not like candidates or campaign issues', \n",
    "                        'Registration problems', 'Bad weather conditions', 'Inconvenient polling place', \n",
    "                        'Other reason', \"Don't know or refused\"]"
   ]
  },
  {
   "cell_type": "code",
   "execution_count": 88,
   "metadata": {
    "collapsed": true
   },
   "outputs": [],
   "source": [
    "# drop extra rows\n",
    "df_nonvoters  = df_nonvoters.drop([0,1,2,3,4]).reset_index(drop=True)"
   ]
  },
  {
   "cell_type": "code",
   "execution_count": 89,
   "metadata": {
    "collapsed": true
   },
   "outputs": [],
   "source": [
    "# fill down demo_1 column\n",
    "df_nonvoters['demo_1'] = df_nonvoters['demo_1'].ffill()"
   ]
  },
  {
   "cell_type": "code",
   "execution_count": 91,
   "metadata": {
    "collapsed": true
   },
   "outputs": [],
   "source": [
    "# drop margin of error rows\n",
    "df_nonvoters  = df_nonvoters.drop(df_nonvoters.index[41:110])"
   ]
  },
  {
   "cell_type": "code",
   "execution_count": 93,
   "metadata": {
    "collapsed": true
   },
   "outputs": [],
   "source": [
    "# save file\n",
    "df_nonvoters.to_csv('non_voters.csv', index=False)"
   ]
  },
  {
   "cell_type": "markdown",
   "metadata": {},
   "source": [
    "##### Reshape for Tableau"
   ]
  },
  {
   "cell_type": "code",
   "execution_count": 40,
   "metadata": {
    "collapsed": true
   },
   "outputs": [],
   "source": [
    "df_nonvoters = pd.read_csv('non_voters.csv')"
   ]
  },
  {
   "cell_type": "code",
   "execution_count": 45,
   "metadata": {},
   "outputs": [
    {
     "data": {
      "text/html": [
       "<div>\n",
       "<style scoped>\n",
       "    .dataframe tbody tr th:only-of-type {\n",
       "        vertical-align: middle;\n",
       "    }\n",
       "\n",
       "    .dataframe tbody tr th {\n",
       "        vertical-align: top;\n",
       "    }\n",
       "\n",
       "    .dataframe thead th {\n",
       "        text-align: right;\n",
       "    }\n",
       "</style>\n",
       "<table border=\"1\" class=\"dataframe\">\n",
       "  <thead>\n",
       "    <tr style=\"text-align: right;\">\n",
       "      <th></th>\n",
       "      <th>demo_1</th>\n",
       "      <th>demo_2</th>\n",
       "      <th>variable</th>\n",
       "      <th>value</th>\n",
       "    </tr>\n",
       "  </thead>\n",
       "  <tbody>\n",
       "    <tr>\n",
       "      <th>0</th>\n",
       "      <td>TOTAL</td>\n",
       "      <td></td>\n",
       "      <td>total_count</td>\n",
       "      <td>18933</td>\n",
       "    </tr>\n",
       "    <tr>\n",
       "      <th>1</th>\n",
       "      <td>Age</td>\n",
       "      <td>18 to 24 years</td>\n",
       "      <td>total_count</td>\n",
       "      <td>3042</td>\n",
       "    </tr>\n",
       "    <tr>\n",
       "      <th>2</th>\n",
       "      <td>Age</td>\n",
       "      <td>25 to 44 years</td>\n",
       "      <td>total_count</td>\n",
       "      <td>7246</td>\n",
       "    </tr>\n",
       "    <tr>\n",
       "      <th>3</th>\n",
       "      <td>Age</td>\n",
       "      <td>45 to 64 years</td>\n",
       "      <td>total_count</td>\n",
       "      <td>5420</td>\n",
       "    </tr>\n",
       "    <tr>\n",
       "      <th>4</th>\n",
       "      <td>Age</td>\n",
       "      <td>65 years and over</td>\n",
       "      <td>total_count</td>\n",
       "      <td>3225</td>\n",
       "    </tr>\n",
       "    <tr>\n",
       "      <th>5</th>\n",
       "      <td>Sex</td>\n",
       "      <td>Male</td>\n",
       "      <td>total_count</td>\n",
       "      <td>9366</td>\n",
       "    </tr>\n",
       "    <tr>\n",
       "      <th>6</th>\n",
       "      <td>Sex</td>\n",
       "      <td>Female</td>\n",
       "      <td>total_count</td>\n",
       "      <td>9567</td>\n",
       "    </tr>\n",
       "    <tr>\n",
       "      <th>7</th>\n",
       "      <td>Race and Hispanic origin</td>\n",
       "      <td>White alone</td>\n",
       "      <td>total_count</td>\n",
       "      <td>14766</td>\n",
       "    </tr>\n",
       "    <tr>\n",
       "      <th>8</th>\n",
       "      <td>Race and Hispanic origin</td>\n",
       "      <td>White non-Hispanic alone</td>\n",
       "      <td>total_count</td>\n",
       "      <td>12633</td>\n",
       "    </tr>\n",
       "    <tr>\n",
       "      <th>9</th>\n",
       "      <td>Race and Hispanic origin</td>\n",
       "      <td>Black alone</td>\n",
       "      <td>total_count</td>\n",
       "      <td>2645</td>\n",
       "    </tr>\n",
       "    <tr>\n",
       "      <th>10</th>\n",
       "      <td>Race and Hispanic origin</td>\n",
       "      <td>Asian alone</td>\n",
       "      <td>total_count</td>\n",
       "      <td>712</td>\n",
       "    </tr>\n",
       "    <tr>\n",
       "      <th>11</th>\n",
       "      <td>Race and Hispanic origin</td>\n",
       "      <td>Hispanic (of any race)</td>\n",
       "      <td>total_count</td>\n",
       "      <td>2403</td>\n",
       "    </tr>\n",
       "    <tr>\n",
       "      <th>12</th>\n",
       "      <td>Race and Hispanic origin</td>\n",
       "      <td>White alone or in combination</td>\n",
       "      <td>total_count</td>\n",
       "      <td>15120</td>\n",
       "    </tr>\n",
       "    <tr>\n",
       "      <th>13</th>\n",
       "      <td>Race and Hispanic origin</td>\n",
       "      <td>Black alone or in combination</td>\n",
       "      <td>total_count</td>\n",
       "      <td>2824</td>\n",
       "    </tr>\n",
       "    <tr>\n",
       "      <th>14</th>\n",
       "      <td>Race and Hispanic origin</td>\n",
       "      <td>Asian alone or in combination</td>\n",
       "      <td>total_count</td>\n",
       "      <td>798</td>\n",
       "    </tr>\n",
       "    <tr>\n",
       "      <th>15</th>\n",
       "      <td>Educational attainment</td>\n",
       "      <td>Less than high school graduate</td>\n",
       "      <td>total_count</td>\n",
       "      <td>2214</td>\n",
       "    </tr>\n",
       "    <tr>\n",
       "      <th>16</th>\n",
       "      <td>Educational attainment</td>\n",
       "      <td>High school graduate</td>\n",
       "      <td>total_count</td>\n",
       "      <td>6852</td>\n",
       "    </tr>\n",
       "    <tr>\n",
       "      <th>17</th>\n",
       "      <td>Educational attainment</td>\n",
       "      <td>Some College</td>\n",
       "      <td>total_count</td>\n",
       "      <td>6154</td>\n",
       "    </tr>\n",
       "    <tr>\n",
       "      <th>18</th>\n",
       "      <td>Educational attainment</td>\n",
       "      <td>Bachelors Degree or more</td>\n",
       "      <td>total_count</td>\n",
       "      <td>3712</td>\n",
       "    </tr>\n",
       "    <tr>\n",
       "      <th>19</th>\n",
       "      <td>Nativity</td>\n",
       "      <td>Native-born citizen</td>\n",
       "      <td>total_count</td>\n",
       "      <td>17531</td>\n",
       "    </tr>\n",
       "    <tr>\n",
       "      <th>20</th>\n",
       "      <td>Nativity</td>\n",
       "      <td>Naturalized citizen</td>\n",
       "      <td>total_count</td>\n",
       "      <td>1402</td>\n",
       "    </tr>\n",
       "    <tr>\n",
       "      <th>21</th>\n",
       "      <td>Duration of residence</td>\n",
       "      <td>Less than 1 year</td>\n",
       "      <td>total_count</td>\n",
       "      <td>3565</td>\n",
       "    </tr>\n",
       "    <tr>\n",
       "      <th>22</th>\n",
       "      <td>Duration of residence</td>\n",
       "      <td>1 to 2 years</td>\n",
       "      <td>total_count</td>\n",
       "      <td>2982</td>\n",
       "    </tr>\n",
       "    <tr>\n",
       "      <th>23</th>\n",
       "      <td>Duration of residence</td>\n",
       "      <td>3 years or longer</td>\n",
       "      <td>total_count</td>\n",
       "      <td>12104</td>\n",
       "    </tr>\n",
       "    <tr>\n",
       "      <th>24</th>\n",
       "      <td>Duration of residence</td>\n",
       "      <td>Don't know, refused</td>\n",
       "      <td>total_count</td>\n",
       "      <td>282</td>\n",
       "    </tr>\n",
       "    <tr>\n",
       "      <th>25</th>\n",
       "      <td>Region</td>\n",
       "      <td>Northeast</td>\n",
       "      <td>total_count</td>\n",
       "      <td>3235</td>\n",
       "    </tr>\n",
       "    <tr>\n",
       "      <th>26</th>\n",
       "      <td>Region</td>\n",
       "      <td>Midwest</td>\n",
       "      <td>total_count</td>\n",
       "      <td>4289</td>\n",
       "    </tr>\n",
       "    <tr>\n",
       "      <th>27</th>\n",
       "      <td>Region</td>\n",
       "      <td>South</td>\n",
       "      <td>total_count</td>\n",
       "      <td>7870</td>\n",
       "    </tr>\n",
       "    <tr>\n",
       "      <th>28</th>\n",
       "      <td>Region</td>\n",
       "      <td>West</td>\n",
       "      <td>total_count</td>\n",
       "      <td>3540</td>\n",
       "    </tr>\n",
       "    <tr>\n",
       "      <th>29</th>\n",
       "      <td>Family income2</td>\n",
       "      <td>Total in families</td>\n",
       "      <td>total_count</td>\n",
       "      <td>12583</td>\n",
       "    </tr>\n",
       "    <tr>\n",
       "      <th>...</th>\n",
       "      <td>...</td>\n",
       "      <td>...</td>\n",
       "      <td>...</td>\n",
       "      <td>...</td>\n",
       "    </tr>\n",
       "    <tr>\n",
       "      <th>503</th>\n",
       "      <td>Race and Hispanic origin</td>\n",
       "      <td>Hispanic (of any race)</td>\n",
       "      <td>Don't know or refused</td>\n",
       "      <td>2.4</td>\n",
       "    </tr>\n",
       "    <tr>\n",
       "      <th>504</th>\n",
       "      <td>Race and Hispanic origin</td>\n",
       "      <td>White alone or in combination</td>\n",
       "      <td>Don't know or refused</td>\n",
       "      <td>2.5</td>\n",
       "    </tr>\n",
       "    <tr>\n",
       "      <th>505</th>\n",
       "      <td>Race and Hispanic origin</td>\n",
       "      <td>Black alone or in combination</td>\n",
       "      <td>Don't know or refused</td>\n",
       "      <td>2.6</td>\n",
       "    </tr>\n",
       "    <tr>\n",
       "      <th>506</th>\n",
       "      <td>Race and Hispanic origin</td>\n",
       "      <td>Asian alone or in combination</td>\n",
       "      <td>Don't know or refused</td>\n",
       "      <td>5.3</td>\n",
       "    </tr>\n",
       "    <tr>\n",
       "      <th>507</th>\n",
       "      <td>Educational attainment</td>\n",
       "      <td>Less than high school graduate</td>\n",
       "      <td>Don't know or refused</td>\n",
       "      <td>1.7</td>\n",
       "    </tr>\n",
       "    <tr>\n",
       "      <th>508</th>\n",
       "      <td>Educational attainment</td>\n",
       "      <td>High school graduate</td>\n",
       "      <td>Don't know or refused</td>\n",
       "      <td>2.6</td>\n",
       "    </tr>\n",
       "    <tr>\n",
       "      <th>509</th>\n",
       "      <td>Educational attainment</td>\n",
       "      <td>Some College</td>\n",
       "      <td>Don't know or refused</td>\n",
       "      <td>2.7</td>\n",
       "    </tr>\n",
       "    <tr>\n",
       "      <th>510</th>\n",
       "      <td>Educational attainment</td>\n",
       "      <td>Bachelors Degree or more</td>\n",
       "      <td>Don't know or refused</td>\n",
       "      <td>3.3</td>\n",
       "    </tr>\n",
       "    <tr>\n",
       "      <th>511</th>\n",
       "      <td>Nativity</td>\n",
       "      <td>Native-born citizen</td>\n",
       "      <td>Don't know or refused</td>\n",
       "      <td>2.4</td>\n",
       "    </tr>\n",
       "    <tr>\n",
       "      <th>512</th>\n",
       "      <td>Nativity</td>\n",
       "      <td>Naturalized citizen</td>\n",
       "      <td>Don't know or refused</td>\n",
       "      <td>5.5</td>\n",
       "    </tr>\n",
       "    <tr>\n",
       "      <th>513</th>\n",
       "      <td>Duration of residence</td>\n",
       "      <td>Less than 1 year</td>\n",
       "      <td>Don't know or refused</td>\n",
       "      <td>2.3</td>\n",
       "    </tr>\n",
       "    <tr>\n",
       "      <th>514</th>\n",
       "      <td>Duration of residence</td>\n",
       "      <td>1 to 2 years</td>\n",
       "      <td>Don't know or refused</td>\n",
       "      <td>2.7</td>\n",
       "    </tr>\n",
       "    <tr>\n",
       "      <th>515</th>\n",
       "      <td>Duration of residence</td>\n",
       "      <td>3 years or longer</td>\n",
       "      <td>Don't know or refused</td>\n",
       "      <td>2.4</td>\n",
       "    </tr>\n",
       "    <tr>\n",
       "      <th>516</th>\n",
       "      <td>Duration of residence</td>\n",
       "      <td>Don't know, refused</td>\n",
       "      <td>Don't know or refused</td>\n",
       "      <td>17.3</td>\n",
       "    </tr>\n",
       "    <tr>\n",
       "      <th>517</th>\n",
       "      <td>Region</td>\n",
       "      <td>Northeast</td>\n",
       "      <td>Don't know or refused</td>\n",
       "      <td>3.5</td>\n",
       "    </tr>\n",
       "    <tr>\n",
       "      <th>518</th>\n",
       "      <td>Region</td>\n",
       "      <td>Midwest</td>\n",
       "      <td>Don't know or refused</td>\n",
       "      <td>2</td>\n",
       "    </tr>\n",
       "    <tr>\n",
       "      <th>519</th>\n",
       "      <td>Region</td>\n",
       "      <td>South</td>\n",
       "      <td>Don't know or refused</td>\n",
       "      <td>2</td>\n",
       "    </tr>\n",
       "    <tr>\n",
       "      <th>520</th>\n",
       "      <td>Region</td>\n",
       "      <td>West</td>\n",
       "      <td>Don't know or refused</td>\n",
       "      <td>4.2</td>\n",
       "    </tr>\n",
       "    <tr>\n",
       "      <th>521</th>\n",
       "      <td>Family income2</td>\n",
       "      <td>Total in families</td>\n",
       "      <td>Don't know or refused</td>\n",
       "      <td>2.9</td>\n",
       "    </tr>\n",
       "    <tr>\n",
       "      <th>522</th>\n",
       "      <td>Family income2</td>\n",
       "      <td>Under $10,000</td>\n",
       "      <td>Don't know or refused</td>\n",
       "      <td>1.3</td>\n",
       "    </tr>\n",
       "    <tr>\n",
       "      <th>523</th>\n",
       "      <td>Family income2</td>\n",
       "      <td>$10,000 to $14,999</td>\n",
       "      <td>Don't know or refused</td>\n",
       "      <td>2.4</td>\n",
       "    </tr>\n",
       "    <tr>\n",
       "      <th>524</th>\n",
       "      <td>Family income2</td>\n",
       "      <td>$15,000 to $19,999</td>\n",
       "      <td>Don't know or refused</td>\n",
       "      <td>2.3</td>\n",
       "    </tr>\n",
       "    <tr>\n",
       "      <th>525</th>\n",
       "      <td>Family income2</td>\n",
       "      <td>$20,000 to $29,999</td>\n",
       "      <td>Don't know or refused</td>\n",
       "      <td>1.3</td>\n",
       "    </tr>\n",
       "    <tr>\n",
       "      <th>526</th>\n",
       "      <td>Family income2</td>\n",
       "      <td>$30,000 to $39,999</td>\n",
       "      <td>Don't know or refused</td>\n",
       "      <td>3.7</td>\n",
       "    </tr>\n",
       "    <tr>\n",
       "      <th>527</th>\n",
       "      <td>Family income2</td>\n",
       "      <td>$40,000 to $49,999</td>\n",
       "      <td>Don't know or refused</td>\n",
       "      <td>2.4</td>\n",
       "    </tr>\n",
       "    <tr>\n",
       "      <th>528</th>\n",
       "      <td>Family income2</td>\n",
       "      <td>$50,000 to $74,999</td>\n",
       "      <td>Don't know or refused</td>\n",
       "      <td>3.4</td>\n",
       "    </tr>\n",
       "    <tr>\n",
       "      <th>529</th>\n",
       "      <td>Family income2</td>\n",
       "      <td>$75,000 to $99,999</td>\n",
       "      <td>Don't know or refused</td>\n",
       "      <td>1.8</td>\n",
       "    </tr>\n",
       "    <tr>\n",
       "      <th>530</th>\n",
       "      <td>Family income2</td>\n",
       "      <td>$100,000 to $149,999</td>\n",
       "      <td>Don't know or refused</td>\n",
       "      <td>3.9</td>\n",
       "    </tr>\n",
       "    <tr>\n",
       "      <th>531</th>\n",
       "      <td>Family income2</td>\n",
       "      <td>$150,000 and over</td>\n",
       "      <td>Don't know or refused</td>\n",
       "      <td>3.4</td>\n",
       "    </tr>\n",
       "    <tr>\n",
       "      <th>532</th>\n",
       "      <td>Family income2</td>\n",
       "      <td>Income not reported</td>\n",
       "      <td>Don't know or refused</td>\n",
       "      <td>3.8</td>\n",
       "    </tr>\n",
       "  </tbody>\n",
       "</table>\n",
       "<p>533 rows × 4 columns</p>\n",
       "</div>"
      ],
      "text/plain": [
       "                       demo_1                          demo_2  \\\n",
       "0                       TOTAL                                   \n",
       "1                         Age                  18 to 24 years   \n",
       "2                         Age                  25 to 44 years   \n",
       "3                         Age                  45 to 64 years   \n",
       "4                         Age               65 years and over   \n",
       "5                         Sex                            Male   \n",
       "6                         Sex                          Female   \n",
       "7    Race and Hispanic origin                     White alone   \n",
       "8    Race and Hispanic origin        White non-Hispanic alone   \n",
       "9    Race and Hispanic origin                     Black alone   \n",
       "10   Race and Hispanic origin                     Asian alone   \n",
       "11   Race and Hispanic origin          Hispanic (of any race)   \n",
       "12   Race and Hispanic origin   White alone or in combination   \n",
       "13   Race and Hispanic origin   Black alone or in combination   \n",
       "14   Race and Hispanic origin   Asian alone or in combination   \n",
       "15     Educational attainment  Less than high school graduate   \n",
       "16     Educational attainment            High school graduate   \n",
       "17     Educational attainment                    Some College   \n",
       "18     Educational attainment        Bachelors Degree or more   \n",
       "19                   Nativity             Native-born citizen   \n",
       "20                   Nativity             Naturalized citizen   \n",
       "21      Duration of residence                Less than 1 year   \n",
       "22      Duration of residence                    1 to 2 years   \n",
       "23      Duration of residence               3 years or longer   \n",
       "24      Duration of residence             Don't know, refused   \n",
       "25                     Region                       Northeast   \n",
       "26                     Region                         Midwest   \n",
       "27                     Region                           South   \n",
       "28                     Region                            West   \n",
       "29            Family income2                Total in families   \n",
       "..                        ...                             ...   \n",
       "503  Race and Hispanic origin          Hispanic (of any race)   \n",
       "504  Race and Hispanic origin   White alone or in combination   \n",
       "505  Race and Hispanic origin   Black alone or in combination   \n",
       "506  Race and Hispanic origin   Asian alone or in combination   \n",
       "507    Educational attainment  Less than high school graduate   \n",
       "508    Educational attainment            High school graduate   \n",
       "509    Educational attainment                    Some College   \n",
       "510    Educational attainment        Bachelors Degree or more   \n",
       "511                  Nativity             Native-born citizen   \n",
       "512                  Nativity             Naturalized citizen   \n",
       "513     Duration of residence                Less than 1 year   \n",
       "514     Duration of residence                    1 to 2 years   \n",
       "515     Duration of residence               3 years or longer   \n",
       "516     Duration of residence             Don't know, refused   \n",
       "517                    Region                       Northeast   \n",
       "518                    Region                         Midwest   \n",
       "519                    Region                           South   \n",
       "520                    Region                            West   \n",
       "521           Family income2                Total in families   \n",
       "522           Family income2                    Under $10,000   \n",
       "523           Family income2               $10,000 to $14,999   \n",
       "524           Family income2               $15,000 to $19,999   \n",
       "525           Family income2               $20,000 to $29,999   \n",
       "526           Family income2               $30,000 to $39,999   \n",
       "527           Family income2               $40,000 to $49,999   \n",
       "528           Family income2               $50,000 to $74,999   \n",
       "529           Family income2               $75,000 to $99,999   \n",
       "530           Family income2             $100,000 to $149,999   \n",
       "531           Family income2                $150,000 and over   \n",
       "532           Family income2              Income not reported   \n",
       "\n",
       "                  variable  value  \n",
       "0              total_count  18933  \n",
       "1              total_count   3042  \n",
       "2              total_count   7246  \n",
       "3              total_count   5420  \n",
       "4              total_count   3225  \n",
       "5              total_count   9366  \n",
       "6              total_count   9567  \n",
       "7              total_count  14766  \n",
       "8              total_count  12633  \n",
       "9              total_count   2645  \n",
       "10             total_count    712  \n",
       "11             total_count   2403  \n",
       "12             total_count  15120  \n",
       "13             total_count   2824  \n",
       "14             total_count    798  \n",
       "15             total_count   2214  \n",
       "16             total_count   6852  \n",
       "17             total_count   6154  \n",
       "18             total_count   3712  \n",
       "19             total_count  17531  \n",
       "20             total_count   1402  \n",
       "21             total_count   3565  \n",
       "22             total_count   2982  \n",
       "23             total_count  12104  \n",
       "24             total_count    282  \n",
       "25             total_count   3235  \n",
       "26             total_count   4289  \n",
       "27             total_count   7870  \n",
       "28             total_count   3540  \n",
       "29             total_count  12583  \n",
       "..                     ...    ...  \n",
       "503  Don't know or refused    2.4  \n",
       "504  Don't know or refused    2.5  \n",
       "505  Don't know or refused    2.6  \n",
       "506  Don't know or refused    5.3  \n",
       "507  Don't know or refused    1.7  \n",
       "508  Don't know or refused    2.6  \n",
       "509  Don't know or refused    2.7  \n",
       "510  Don't know or refused    3.3  \n",
       "511  Don't know or refused    2.4  \n",
       "512  Don't know or refused    5.5  \n",
       "513  Don't know or refused    2.3  \n",
       "514  Don't know or refused    2.7  \n",
       "515  Don't know or refused    2.4  \n",
       "516  Don't know or refused   17.3  \n",
       "517  Don't know or refused    3.5  \n",
       "518  Don't know or refused      2  \n",
       "519  Don't know or refused      2  \n",
       "520  Don't know or refused    4.2  \n",
       "521  Don't know or refused    2.9  \n",
       "522  Don't know or refused    1.3  \n",
       "523  Don't know or refused    2.4  \n",
       "524  Don't know or refused    2.3  \n",
       "525  Don't know or refused    1.3  \n",
       "526  Don't know or refused    3.7  \n",
       "527  Don't know or refused    2.4  \n",
       "528  Don't know or refused    3.4  \n",
       "529  Don't know or refused    1.8  \n",
       "530  Don't know or refused    3.9  \n",
       "531  Don't know or refused    3.4  \n",
       "532  Don't know or refused    3.8  \n",
       "\n",
       "[533 rows x 4 columns]"
      ]
     },
     "execution_count": 45,
     "metadata": {},
     "output_type": "execute_result"
    }
   ],
   "source": [
    "pd.melt(df_nonvoters, id_vars=['demo_1', 'demo_2'])"
   ]
  },
  {
   "cell_type": "code",
   "execution_count": 47,
   "metadata": {},
   "outputs": [
    {
     "data": {
      "text/plain": [
       "Index(['demo_1', 'demo_2', 'total_count', 'Illness or disability',\n",
       "       'Out of town', 'Forgot to vote', 'Not interested',\n",
       "       'Too busy, conflicting schedule', 'Transportation problems',\n",
       "       'Did not like candidates or campaign issues', 'Registration problems',\n",
       "       'Bad weather conditions', 'Inconvenient polling place', 'Other reason',\n",
       "       'Don't know or refused'],\n",
       "      dtype='object')"
      ]
     },
     "execution_count": 47,
     "metadata": {},
     "output_type": "execute_result"
    }
   ],
   "source": [
    "df_nonvoters.columns"
   ]
  },
  {
   "cell_type": "code",
   "execution_count": 52,
   "metadata": {
    "collapsed": true
   },
   "outputs": [],
   "source": [
    "df_nonvoters_melted = pd.melt(df_nonvoters, id_vars=['demo_1', 'demo_2', 'total_count'], value_vars = ['Illness or disability',\n",
    "       'Out of town', 'Forgot to vote', 'Not interested',\n",
    "       'Too busy, conflicting schedule', 'Transportation problems',\n",
    "       'Did not like candidates or campaign issues', 'Registration problems',\n",
    "       'Bad weather conditions', 'Inconvenient polling place', 'Other reason',\n",
    "       \"Don't know or refused\"])"
   ]
  },
  {
   "cell_type": "code",
   "execution_count": 54,
   "metadata": {
    "collapsed": true
   },
   "outputs": [],
   "source": [
    "# save as excel\n",
    "df_nonvoters_melted.to_csv('df_nonvoters_melted.csv', index=False, encoding='utf-8')"
   ]
  },
  {
   "cell_type": "markdown",
   "metadata": {},
   "source": [
    "#### 2. How Many Vote? Source: US Elections Project"
   ]
  },
  {
   "cell_type": "code",
   "execution_count": null,
   "metadata": {
    "collapsed": true
   },
   "outputs": [],
   "source": [
    "# http://www.electproject.org/home/voter-turnout/voter-turnout-data"
   ]
  },
  {
   "cell_type": "code",
   "execution_count": null,
   "metadata": {
    "collapsed": true
   },
   "outputs": [],
   "source": [
    "url = 'https://docs.google.com/spreadsheets/d/1VAcF0eJ06y_8T4o2gvIL4YcyQy8pxb1zYkgXF76Uu1s/export?gid=2030096602&format=csv'"
   ]
  },
  {
   "cell_type": "code",
   "execution_count": null,
   "metadata": {
    "collapsed": true
   },
   "outputs": [],
   "source": [
    "df = pd.read_csv(url)"
   ]
  },
  {
   "cell_type": "markdown",
   "metadata": {},
   "source": [
    "### Electoral College Data"
   ]
  },
  {
   "cell_type": "code",
   "execution_count": 33,
   "metadata": {
    "collapsed": true
   },
   "outputs": [],
   "source": [
    "# college electoral college points per state (source: kshaffer)\n",
    "df = pd.read_csv('https://github.com/kshaffer/election2016/raw/master/2016ElectionAnalysis.csv')"
   ]
  },
  {
   "cell_type": "code",
   "execution_count": 35,
   "metadata": {
    "collapsed": true
   },
   "outputs": [],
   "source": [
    "df = df[['state', 'clintonElectors', 'trumpElectors', 'electors2016']]"
   ]
  },
  {
   "cell_type": "code",
   "execution_count": 37,
   "metadata": {
    "collapsed": true
   },
   "outputs": [],
   "source": [
    "df.to_csv('electoral_college.csv', index=False)"
   ]
  },
  {
   "cell_type": "markdown",
   "metadata": {},
   "source": [
    "#### Electoral College Data for Tableau"
   ]
  },
  {
   "cell_type": "code",
   "execution_count": 28,
   "metadata": {
    "collapsed": true
   },
   "outputs": [],
   "source": [
    "df = pd.read_csv('https://github.com/kshaffer/election2016/raw/master/2016ElectionAnalysis.csv')"
   ]
  },
  {
   "cell_type": "code",
   "execution_count": 29,
   "metadata": {
    "collapsed": true
   },
   "outputs": [],
   "source": [
    "df = df[['state', 'clintonElectors', 'trumpElectors', 'electors2016']]"
   ]
  },
  {
   "cell_type": "code",
   "execution_count": 30,
   "metadata": {},
   "outputs": [],
   "source": [
    "df = df.merge(z, on='state')"
   ]
  },
  {
   "cell_type": "code",
   "execution_count": 31,
   "metadata": {
    "collapsed": true
   },
   "outputs": [],
   "source": [
    "df.to_csv('electoral_college_tableau.csv')"
   ]
  },
  {
   "cell_type": "code",
   "execution_count": null,
   "metadata": {
    "collapsed": true
   },
   "outputs": [],
   "source": []
  }
 ],
 "metadata": {
  "kernelspec": {
   "display_name": "Python 3",
   "language": "python",
   "name": "python3"
  },
  "language_info": {
   "codemirror_mode": {
    "name": "ipython",
    "version": 3
   },
   "file_extension": ".py",
   "mimetype": "text/x-python",
   "name": "python",
   "nbconvert_exporter": "python",
   "pygments_lexer": "ipython3",
   "version": "3.6.1"
  }
 },
 "nbformat": 4,
 "nbformat_minor": 2
}
